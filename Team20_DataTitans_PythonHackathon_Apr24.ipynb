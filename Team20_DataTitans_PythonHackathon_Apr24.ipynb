{
 "cells": [
  {
   "cell_type": "markdown",
   "id": "26179eea-7238-46c5-9d50-640570d40201",
   "metadata": {},
   "source": [
    "#Q65: Which Admission Ward has maximum number of visits scheduled?"
   ]
  },
  {
   "cell_type": "code",
   "execution_count": 2,
   "id": "d4dceb8c-9336-46a5-a8e8-5f678f0a68dc",
   "metadata": {},
   "outputs": [
    {
     "data": {
      "text/plain": [
       "admission_ward\n",
       "Cardiology    1547\n",
       "Name: count, dtype: int64"
      ]
     },
     "execution_count": 2,
     "metadata": {},
     "output_type": "execute_result"
    }
   ],
   "source": [
    "\n",
    "import pandas\n",
    "#reading the data into a variable named discharge\n",
    "discharge = pandas.read_excel(\"Cardiac_Outcomes.xlsx\",\"Hospitalization_Discharge\")\n",
    "#counting the freequency or number of occurrences of each unique admission ward\n",
    "countfreequencydischageUnique=discharge[\"admission_ward\"].value_counts()\n",
    "#sorting that list in descending and getting the first row for max occurrences\n",
    "countfreequencydischageUnique.sort_values(axis = 0, ascending = False).head(1)\n",
    "\n",
    "\n",
    "\n"
   ]
  },
  {
   "cell_type": "markdown",
   "id": "5ca381bc-fad6-4eaa-962d-9499a494bb51",
   "metadata": {},
   "source": [
    "#Q66: Display total count of patients in each discharge_department based on gender"
   ]
  },
  {
   "cell_type": "code",
   "execution_count": 2,
   "id": "46077f95-c67a-404f-bec1-5afbc879fe88",
   "metadata": {},
   "outputs": [
    {
     "data": {
      "text/plain": [
       "discharge_department  gender\n",
       "Cardiology            Female    993\n",
       "                      Male      710\n",
       "GeneralWard           Female    137\n",
       "                      Male      104\n",
       "ICU                   Female      5\n",
       "                      Male        7\n",
       "Others                Female     28\n",
       "                      Male       24\n",
       "Name: gender, dtype: int64"
      ]
     },
     "execution_count": 2,
     "metadata": {},
     "output_type": "execute_result"
    }
   ],
   "source": [
    "import pandas\n",
    "discharge = pandas.read_excel(\"Cardiac_Outcomes.xlsx\",\"Hospitalization_Discharge\")\n",
    "demo =pandas.read_excel(\"Cardiac_Outcomes.xlsx\",\"Demography\")\n",
    "row1=discharge['inpatient_number']\n",
    "row2 = discharge['discharge_department']\n",
    "row3 = demo['gender']\n",
    "dataforQ66 = [row1, row2, row3]\n",
    "join = pandas.concat(dataforQ66, axis = 1)\n",
    "grouping = join.groupby([\"discharge_department\",\"gender\"])[\"gender\"].count()\n",
    "grouping\n"
   ]
  },
  {
   "cell_type": "markdown",
   "id": "e98d2de4-2e03-4cc1-abb1-5fec86728cb8",
   "metadata": {},
   "source": [
    "Q#67: How many Unique patients were precribed each type of medication?"
   ]
  },
  {
   "cell_type": "code",
   "execution_count": 3,
   "id": "121ab922-e7d7-4560-bf82-f62be528073a",
   "metadata": {},
   "outputs": [
    {
     "data": {
      "text/plain": [
       "Drug_name\n",
       "Spironolactone tablet                               1833\n",
       "Furosemide injection                                1720\n",
       "Furosemide tablet                                   1641\n",
       "Meglumine Adenosine Cyclophosphate for injection    1115\n",
       "Deslanoside injection                               1017\n",
       "Digoxin tablet                                       999\n",
       "Aspirin enteric-coated tablet                        958\n",
       "Atorvastatin calcium tablet                          822\n",
       "Milrinone injection                                  709\n",
       "sulfotanshinone sodium injection                     570\n",
       "Metoprolol Succinate Sustained-release tablet        523\n",
       "Benazepril hydrochloride tablet                      434\n",
       "Clopidogrel Hydrogen Sulphate tablet                 401\n",
       "Valsartan Dispersible tablet                         348\n",
       "Shenfu injection                                     338\n",
       "Isosorbide Mononitrate Sustained Release tablet      326\n",
       "metoprolol tartrate injection                        307\n",
       "Hydrochlorothiazide tablet                           283\n",
       "warfarin sodium tablet                               253\n",
       "Torasemide tablet                                    252\n",
       "Nitroglycerin injection                              203\n",
       "Heparin Sodium injection                             153\n",
       "Enoxaparin Sodium injection                          113\n",
       "Isoprenaline Hydrochloride injection                  30\n",
       "Dobutamine hydrochloride injection                    22\n",
       "Name: count, dtype: int64"
      ]
     },
     "execution_count": 3,
     "metadata": {},
     "output_type": "execute_result"
    }
   ],
   "source": [
    "import pandas\n",
    "prescriptions=pandas.read_excel(\"Cardiac_Outcomes.xlsx\",\"Patient_Precriptions\")\n",
    "prescriptionsUnique=prescriptions[\"Drug_name\"].unique()\n",
    "countfreequencyprescriptionsUnique=prescriptions[\"Drug_name\"].value_counts()\n",
    "countfreequencyprescriptionsUnique"
   ]
  },
  {
   "cell_type": "markdown",
   "id": "37aed8a9-8211-4e52-91dd-e51589d87618",
   "metadata": {},
   "source": [
    "Q#68: Find 5 patients with the highest Discharge days greater than 20. List their most common outcome"
   ]
  },
  {
   "cell_type": "code",
   "execution_count": 1,
   "id": "50bb2ecd-ec8f-42d0-a0ed-886c00c130be",
   "metadata": {},
   "outputs": [
    {
     "data": {
      "text/html": [
       "<div>\n",
       "<style scoped>\n",
       "    .dataframe tbody tr th:only-of-type {\n",
       "        vertical-align: middle;\n",
       "    }\n",
       "\n",
       "    .dataframe tbody tr th {\n",
       "        vertical-align: top;\n",
       "    }\n",
       "\n",
       "    .dataframe thead th {\n",
       "        text-align: right;\n",
       "    }\n",
       "</style>\n",
       "<table border=\"1\" class=\"dataframe\">\n",
       "  <thead>\n",
       "    <tr style=\"text-align: right;\">\n",
       "      <th></th>\n",
       "      <th>inpatient_number</th>\n",
       "      <th>dischargeDay</th>\n",
       "      <th>outcome_during_hospitalization</th>\n",
       "    </tr>\n",
       "  </thead>\n",
       "  <tbody>\n",
       "    <tr>\n",
       "      <th>884</th>\n",
       "      <td>794077</td>\n",
       "      <td>123</td>\n",
       "      <td>Alive</td>\n",
       "    </tr>\n",
       "    <tr>\n",
       "      <th>1613</th>\n",
       "      <td>768711</td>\n",
       "      <td>118</td>\n",
       "      <td>Alive</td>\n",
       "    </tr>\n",
       "    <tr>\n",
       "      <th>1548</th>\n",
       "      <td>791880</td>\n",
       "      <td>88</td>\n",
       "      <td>Alive</td>\n",
       "    </tr>\n",
       "    <tr>\n",
       "      <th>1573</th>\n",
       "      <td>794784</td>\n",
       "      <td>82</td>\n",
       "      <td>Alive</td>\n",
       "    </tr>\n",
       "    <tr>\n",
       "      <th>1513</th>\n",
       "      <td>757711</td>\n",
       "      <td>76</td>\n",
       "      <td>Alive</td>\n",
       "    </tr>\n",
       "  </tbody>\n",
       "</table>\n",
       "</div>"
      ],
      "text/plain": [
       "      inpatient_number  dischargeDay outcome_during_hospitalization\n",
       "884             794077           123                          Alive\n",
       "1613            768711           118                          Alive\n",
       "1548            791880            88                          Alive\n",
       "1573            794784            82                          Alive\n",
       "1513            757711            76                          Alive"
      ]
     },
     "execution_count": 1,
     "metadata": {},
     "output_type": "execute_result"
    }
   ],
   "source": [
    "import pandas\n",
    "discharge = pandas.read_excel(\"Cardiac_Outcomes.xlsx\",\"Hospitalization_Discharge\")\n",
    "result = discharge.loc[(discharge['dischargeDay'] > 20)]\n",
    "result[[\"inpatient_number\", \"dischargeDay\", \"outcome_during_hospitalization\"]].sort_values(by=\"dischargeDay\",ascending=False ).head()\n",
    " "
   ]
  },
  {
   "cell_type": "markdown",
   "id": "0975686f-e046-4217-b4a3-afb4de4fbbef",
   "metadata": {},
   "source": [
    "#Q72 What % of the dataset is male vs female?"
   ]
  },
  {
   "cell_type": "code",
   "execution_count": 70,
   "id": "00016f76-fe88-4d09-ad64-484eaebabfeb",
   "metadata": {},
   "outputs": [
    {
     "name": "stdout",
     "output_type": "stream",
     "text": [
      "Percentage of Female=  57.9 %\n",
      "Percentage of Male=  42.1 %\n"
     ]
    }
   ],
   "source": [
    "import pandas\n",
    "demo =pandas.read_excel(\"Cardiac_Outcomes.xlsx\",\"Demography\")\n",
    "group_by_gender = demo.groupby('gender').count()\n",
    "total = int(demo.shape[0])\n",
    "percentFemale= (int(demo[demo.gender == 'Female'].shape[0])/total)*100\n",
    "percentMale = (int(demo[demo.gender == 'Male'].shape[0])/total)*100\n",
    "print('Percentage of Female= ', round(PercentFemale, 1),'%')\n",
    "print('Percentage of Male= ', round(PercentMale,1), '%')\n"
   ]
  },
  {
   "cell_type": "markdown",
   "id": "804fb56f-b9f7-4130-8d34-f0ed8d271c2b",
   "metadata": {},
   "source": [
    "Q#70: On average, what is the most frequent weekday of admission?"
   ]
  },
  {
   "cell_type": "code",
   "execution_count": 117,
   "id": "7cf2753e-19ae-4ce8-8bb6-c3d3460cec0c",
   "metadata": {},
   "outputs": [
    {
     "name": "stdout",
     "output_type": "stream",
     "text": [
      "Most admissions happened on Monday\n"
     ]
    }
   ],
   "source": [
    "import pandas\n",
    "discharge = pandas.read_excel(\"Cardiac_Outcomes.xlsx\",\"Hospitalization_Discharge\")\n",
    "admitDate = pandas.DataFrame(discharge['Admission_date'])\n",
    "admitDate['Admission_date'] = pandas.to_datetime(admitDate['Admission_date']) \n",
    "admitDate['dayOfWeek'] = admitDate['Admission_date'].dt.day_name() \n",
    "grouping = admitDate.groupby([\"dayOfWeek\"])[\"dayOfWeek\"].count()\n",
    "mostFrequentDay = grouping.sort_values(axis = 0, ascending = False).head(1) \n",
    "print(\"Most admissions happened on\",mostFrequentDay.idxmax())"
   ]
  },
  {
   "cell_type": "markdown",
   "id": "1453d6ce-8f61-4f65-a494-f799c2cc1b14",
   "metadata": {},
   "source": [
    "Q 71: Which year had the maximum admissions?"
   ]
  },
  {
   "cell_type": "code",
   "execution_count": 115,
   "id": "e50d1b10-df9b-4462-871a-b20794873320",
   "metadata": {},
   "outputs": [
    {
     "name": "stdout",
     "output_type": "stream",
     "text": [
      "Maximum admissions happened in the year 2016\n"
     ]
    }
   ],
   "source": [
    "import pandas\n",
    "discharge = pandas.read_excel(\"Cardiac_Outcomes.xlsx\",\"Hospitalization_Discharge\") \n",
    "admitDate = pandas.DataFrame(discharge['Admission_date']) \n",
    "admitDate['Admission_date'] = pandas.to_datetime(admitDate['Admission_date']) \n",
    "admitDate['year'] = pandas.DatetimeIndex(admitDate['Admission_date']).year\n",
    "grouping = admitDate.groupby(['year'])['year'].value_counts()\n",
    "print(\"Maximum admissions happened in the year\",grouping.idxmax())\n"
   ]
  },
  {
   "cell_type": "code",
   "execution_count": null,
   "id": "bcce774e-fb4e-49fb-a299-546ca42bdac1",
   "metadata": {},
   "outputs": [],
   "source": [
    "#Q73: Which patient in the youngest age category weighs the most?"
   ]
  },
  {
   "cell_type": "code",
   "execution_count": 225,
   "id": "8c9dc832-f9c7-40f1-b6b7-dc76ceaab414",
   "metadata": {},
   "outputs": [
    {
     "data": {
      "text/html": [
       "<div>\n",
       "<style scoped>\n",
       "    .dataframe tbody tr th:only-of-type {\n",
       "        vertical-align: middle;\n",
       "    }\n",
       "\n",
       "    .dataframe tbody tr th {\n",
       "        vertical-align: top;\n",
       "    }\n",
       "\n",
       "    .dataframe thead th {\n",
       "        text-align: right;\n",
       "    }\n",
       "</style>\n",
       "<table border=\"1\" class=\"dataframe\">\n",
       "  <thead>\n",
       "    <tr style=\"text-align: right;\">\n",
       "      <th></th>\n",
       "      <th>inpatient_number</th>\n",
       "    </tr>\n",
       "  </thead>\n",
       "  <tbody>\n",
       "    <tr>\n",
       "      <th>1092</th>\n",
       "      <td>831184</td>\n",
       "    </tr>\n",
       "  </tbody>\n",
       "</table>\n",
       "</div>"
      ],
      "text/plain": [
       "      inpatient_number\n",
       "1092            831184"
      ]
     },
     "execution_count": 225,
     "metadata": {},
     "output_type": "execute_result"
    }
   ],
   "source": [
    "import pandas\n",
    "#demo is my dataframe\n",
    "demo =pandas.read_excel(\"Cardiac_Outcomes.xlsx\",\"Demography\")\n",
    "#getting the rows with the minimum age group and storing this subset into result\n",
    "result = demo.loc[(demo['ageCat'] == demo['ageCat'].min() )]\n",
    "#making a subset with just patient number and weight and sorting it on weight\n",
    "mysubset = result[['inpatient_number', 'weight']].sort_values('weight', ascending = False).head(1)\n",
    "mysubset[['inpatient_number']]\n"
   ]
  },
  {
   "cell_type": "code",
   "execution_count": null,
   "id": "b9e5660d-ca93-424c-9679-a03b55edf11c",
   "metadata": {},
   "outputs": [],
   "source": [
    " #Q74 Which adm ward had the lowest rate of Outcome Death? #pending -- to calculate the lowest rate"
   ]
  },
  {
   "cell_type": "code",
   "execution_count": 264,
   "id": "965e229a-7e5d-42df-918f-1a6b53025c2d",
   "metadata": {},
   "outputs": [
    {
     "name": "stdout",
     "output_type": "stream",
     "text": [
      "GeneralWard\n",
      "ICU\n",
      "Others\n"
     ]
    }
   ],
   "source": [
    "import pandas \n",
    "discharge = pandas.read_excel(\"Cardiac_Outcomes.xlsx\",\"Hospitalization_Discharge\")\n",
    "#discharge[discharge.outcome_during_hospitalization =='Dead']\n",
    "result = discharge.loc[(discharge['outcome_during_hospitalization']  == 'Dead')]\n",
    "\n",
    "df=result.groupby(['admission_ward'])['outcome_during_hospitalization'].count()\n",
    "x=df.sort_values(axis=0,ascending=True).min()\n",
    "#print (x)\n",
    "y=dict(df)\n",
    "#print(y)\n",
    "for key,value in y.items():\n",
    "    if value== x:\n",
    "         print(key)\n"
   ]
  },
  {
   "cell_type": "code",
   "execution_count": null,
   "id": "752ad872-cc55-49ff-b066-81c067c8cc57",
   "metadata": {},
   "outputs": [],
   "source": []
  }
 ],
 "metadata": {
  "kernelspec": {
   "display_name": "Python 3 (ipykernel)",
   "language": "python",
   "name": "python3"
  },
  "language_info": {
   "codemirror_mode": {
    "name": "ipython",
    "version": 3
   },
   "file_extension": ".py",
   "mimetype": "text/x-python",
   "name": "python",
   "nbconvert_exporter": "python",
   "pygments_lexer": "ipython3",
   "version": "3.11.7"
  }
 },
 "nbformat": 4,
 "nbformat_minor": 5
}
