{
 "cells": [
  {
   "cell_type": "code",
   "execution_count": 2,
   "id": "d4dceb8c-9336-46a5-a8e8-5f678f0a68dc",
   "metadata": {},
   "outputs": [
    {
     "data": {
      "text/plain": [
       "admission_ward\n",
       "Cardiology    1547\n",
       "Name: count, dtype: int64"
      ]
     },
     "execution_count": 2,
     "metadata": {},
     "output_type": "execute_result"
    }
   ],
   "source": [
    "#Q65: Which Admission Ward has maximum number of visits scheduled?\n",
    "import pandas\n",
    "#reading the data into a variable named discharge\n",
    "discharge = pandas.read_excel(\"Cardiac_Outcomes.xlsx\",\"Hospitalization_Discharge\")\n",
    "#counting the freequency or number of occurrences of each unique admission ward\n",
    "countfreequencydischageUnique=discharge[\"admission_ward\"].value_counts()\n",
    "#sorting that list in descending and getting the first row for max occurrences\n",
    "countfreequencydischageUnique.sort_values(axis = 0, ascending = False).head(1)\n",
    "\n",
    "\n",
    "\n"
   ]
  },
  {
   "cell_type": "code",
   "execution_count": null,
   "id": "46077f95-c67a-404f-bec1-5afbc879fe88",
   "metadata": {},
   "outputs": [],
   "source": []
  },
  {
   "cell_type": "code",
   "execution_count": null,
   "id": "121ab922-e7d7-4560-bf82-f62be528073a",
   "metadata": {},
   "outputs": [],
   "source": []
  }
 ],
 "metadata": {
  "kernelspec": {
   "display_name": "Python 3 (ipykernel)",
   "language": "python",
   "name": "python3"
  },
  "language_info": {
   "codemirror_mode": {
    "name": "ipython",
    "version": 3
   },
   "file_extension": ".py",
   "mimetype": "text/x-python",
   "name": "python",
   "nbconvert_exporter": "python",
   "pygments_lexer": "ipython3",
   "version": "3.11.7"
  }
 },
 "nbformat": 4,
 "nbformat_minor": 5
}
