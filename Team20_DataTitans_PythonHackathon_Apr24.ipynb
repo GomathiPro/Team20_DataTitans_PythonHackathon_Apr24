{
 "cells": [
  {
   "cell_type": "code",
   "execution_count": null,
   "id": "c7041622-4100-4687-b82e-1364f0eb5554",
   "metadata": {},
   "outputs": [],
   "source": [
    "import pandas as pd\n",
    "import numpy as np\n",
    "import matplotlib\n",
    "import matplotlib.pyplot as plt\n",
    "%matplotlib inline\n",
    "import seaborn as sns\n",
    "\n"
   ]
  },
  {
   "cell_type": "code",
   "execution_count": 11,
   "id": "25976560-f17c-4c2a-9081-d4b61c36a080",
   "metadata": {},
   "outputs": [],
   "source": [
    "discharge = pd.read_excel(\"Cardiac_Outcomes.xlsx\",\"Hospitalization_Discharge\")\n",
    "complications = pd.read_excel(\"Cardiac_Outcomes.xlsx\",\"CardiacComplications\")\n",
    "responsivenes = pd.read_excel(\"Cardiac_Outcomes.xlsx\",\"Responsivenes\")\n",
    "labs = pd.read_excel(\"Cardiac_Outcomes.xlsx\",\"Labs\")\n",
    "history = pd.read_excel(\"Cardiac_Outcomes.xlsx\",\"PatientHistory\")\n",
    "demo =pd.read_excel(\"Cardiac_Outcomes.xlsx\",\"Demography\")\n",
    "prescriptions=pd.read_excel(\"Cardiac_Outcomes.xlsx\",\"Patient_Precriptions\")"
   ]
  },
  {
   "cell_type": "markdown",
   "id": "26179eea-7238-46c5-9d50-640570d40201",
   "metadata": {},
   "source": [
    "#Q65: Which Admission Ward has maximum number of visits scheduled?"
   ]
  },
  {
   "cell_type": "code",
   "execution_count": 161,
   "id": "d4dceb8c-9336-46a5-a8e8-5f678f0a68dc",
   "metadata": {},
   "outputs": [
    {
     "data": {
      "text/plain": [
       "admission_ward\n",
       "Cardiology    1547\n",
       "Name: count, dtype: int64"
      ]
     },
     "execution_count": 161,
     "metadata": {},
     "output_type": "execute_result"
    }
   ],
   "source": [
    "#reading the data into a variable named discharge\n",
    "#discharge = pd.read_excel(\"Cardiac_Outcomes.xlsx\",\"Hospitalization_Discharge\")\n",
    "#counting the freequency or number of occurrences of each unique admission ward\n",
    "countfreequencydischageUnique=discharge[\"admission_ward\"].value_counts()\n",
    "#sorting that list in descending and getting the first row for max occurrences\n",
    "countfreequencydischageUnique.sort_values(axis = 0, ascending = False).head(1)"
   ]
  },
  {
   "cell_type": "markdown",
   "id": "5ca381bc-fad6-4eaa-962d-9499a494bb51",
   "metadata": {},
   "source": [
    "#Q66: Display total count of patients in each discharge_department based on gender"
   ]
  },
  {
   "cell_type": "code",
   "execution_count": 162,
   "id": "46077f95-c67a-404f-bec1-5afbc879fe88",
   "metadata": {},
   "outputs": [
    {
     "data": {
      "text/plain": [
       "discharge_department  gender\n",
       "Cardiology            Female    993\n",
       "                      Male      710\n",
       "GeneralWard           Female    137\n",
       "                      Male      104\n",
       "ICU                   Female      5\n",
       "                      Male        7\n",
       "Others                Female     28\n",
       "                      Male       24\n",
       "Name: gender, dtype: int64"
      ]
     },
     "execution_count": 162,
     "metadata": {},
     "output_type": "execute_result"
    }
   ],
   "source": [
    "#discharge = pd.read_excel(\"Cardiac_Outcomes.xlsx\",\"Hospitalization_Discharge\")\n",
    "#demo =pd.read_excel(\"Cardiac_Outcomes.xlsx\",\"Demography\")\n",
    "row1=discharge['inpatient_number']\n",
    "row2 = discharge['discharge_department']\n",
    "row3 = demo['gender']\n",
    "dataforQ66 = [row1, row2, row3]\n",
    "join = pd.concat(dataforQ66, axis = 1)\n",
    "grouping = join.groupby([\"discharge_department\",\"gender\"])[\"gender\"].count()\n",
    "grouping"
   ]
  },
  {
   "cell_type": "markdown",
   "id": "e98d2de4-2e03-4cc1-abb1-5fec86728cb8",
   "metadata": {},
   "source": [
    "Q#67: How many Unique patients were precribed each type of medication?"
   ]
  },
  {
   "cell_type": "code",
   "execution_count": 163,
   "id": "121ab922-e7d7-4560-bf82-f62be528073a",
   "metadata": {},
   "outputs": [
    {
     "data": {
      "text/plain": [
       "Drug_name\n",
       "Spironolactone tablet                               1833\n",
       "Furosemide injection                                1720\n",
       "Furosemide tablet                                   1641\n",
       "Meglumine Adenosine Cyclophosphate for injection    1115\n",
       "Deslanoside injection                               1017\n",
       "Digoxin tablet                                       999\n",
       "Aspirin enteric-coated tablet                        958\n",
       "Atorvastatin calcium tablet                          822\n",
       "Milrinone injection                                  709\n",
       "sulfotanshinone sodium injection                     570\n",
       "Metoprolol Succinate Sustained-release tablet        523\n",
       "Benazepril hydrochloride tablet                      434\n",
       "Clopidogrel Hydrogen Sulphate tablet                 401\n",
       "Valsartan Dispersible tablet                         348\n",
       "Shenfu injection                                     338\n",
       "Isosorbide Mononitrate Sustained Release tablet      326\n",
       "metoprolol tartrate injection                        307\n",
       "Hydrochlorothiazide tablet                           283\n",
       "warfarin sodium tablet                               253\n",
       "Torasemide tablet                                    252\n",
       "Nitroglycerin injection                              203\n",
       "Heparin Sodium injection                             153\n",
       "Enoxaparin Sodium injection                          113\n",
       "Isoprenaline Hydrochloride injection                  30\n",
       "Dobutamine hydrochloride injection                    22\n",
       "Name: count, dtype: int64"
      ]
     },
     "execution_count": 163,
     "metadata": {},
     "output_type": "execute_result"
    }
   ],
   "source": [
    "#prescriptions=pandas.read_excel(\"Cardiac_Outcomes.xlsx\",\"Patient_Precriptions\")\n",
    "prescriptionsUnique=prescriptions[\"Drug_name\"].unique()\n",
    "countfreequencyprescriptionsUnique=prescriptions[\"Drug_name\"].value_counts()\n",
    "countfreequencyprescriptionsUnique"
   ]
  },
  {
   "cell_type": "markdown",
   "id": "37aed8a9-8211-4e52-91dd-e51589d87618",
   "metadata": {},
   "source": [
    "Q#68: Find 5 patients with the highest Discharge days greater than 20. List their most common outcome"
   ]
  },
  {
   "cell_type": "code",
   "execution_count": 164,
   "id": "50bb2ecd-ec8f-42d0-a0ed-886c00c130be",
   "metadata": {},
   "outputs": [
    {
     "data": {
      "text/html": [
       "<div>\n",
       "<style scoped>\n",
       "    .dataframe tbody tr th:only-of-type {\n",
       "        vertical-align: middle;\n",
       "    }\n",
       "\n",
       "    .dataframe tbody tr th {\n",
       "        vertical-align: top;\n",
       "    }\n",
       "\n",
       "    .dataframe thead th {\n",
       "        text-align: right;\n",
       "    }\n",
       "</style>\n",
       "<table border=\"1\" class=\"dataframe\">\n",
       "  <thead>\n",
       "    <tr style=\"text-align: right;\">\n",
       "      <th></th>\n",
       "      <th>inpatient_number</th>\n",
       "      <th>dischargeDay</th>\n",
       "      <th>outcome_during_hospitalization</th>\n",
       "    </tr>\n",
       "  </thead>\n",
       "  <tbody>\n",
       "    <tr>\n",
       "      <th>884</th>\n",
       "      <td>794077</td>\n",
       "      <td>123</td>\n",
       "      <td>Alive</td>\n",
       "    </tr>\n",
       "    <tr>\n",
       "      <th>1613</th>\n",
       "      <td>768711</td>\n",
       "      <td>118</td>\n",
       "      <td>Alive</td>\n",
       "    </tr>\n",
       "    <tr>\n",
       "      <th>1548</th>\n",
       "      <td>791880</td>\n",
       "      <td>88</td>\n",
       "      <td>Alive</td>\n",
       "    </tr>\n",
       "    <tr>\n",
       "      <th>1573</th>\n",
       "      <td>794784</td>\n",
       "      <td>82</td>\n",
       "      <td>Alive</td>\n",
       "    </tr>\n",
       "    <tr>\n",
       "      <th>1513</th>\n",
       "      <td>757711</td>\n",
       "      <td>76</td>\n",
       "      <td>Alive</td>\n",
       "    </tr>\n",
       "  </tbody>\n",
       "</table>\n",
       "</div>"
      ],
      "text/plain": [
       "      inpatient_number  dischargeDay outcome_during_hospitalization\n",
       "884             794077           123                          Alive\n",
       "1613            768711           118                          Alive\n",
       "1548            791880            88                          Alive\n",
       "1573            794784            82                          Alive\n",
       "1513            757711            76                          Alive"
      ]
     },
     "execution_count": 164,
     "metadata": {},
     "output_type": "execute_result"
    }
   ],
   "source": [
    "#discharge = pandas.read_excel(\"Cardiac_Outcomes.xlsx\",\"Hospitalization_Discharge\")\n",
    "result = discharge.loc[(discharge['dischargeDay'] > 20)]\n",
    "result[[\"inpatient_number\", \"dischargeDay\", \"outcome_during_hospitalization\"]].sort_values(by=\"dischargeDay\",ascending=False ).head()\n",
    " "
   ]
  },
  {
   "cell_type": "markdown",
   "id": "b80103d5-82e5-4c93-b334-2b3dd322472b",
   "metadata": {},
   "source": [
    "#Q69: Get the list of patient ID's which are not there in prescriptions but in demographics"
   ]
  },
  {
   "cell_type": "code",
   "execution_count": 175,
   "id": "6750eb28-92ed-485f-a054-a45d0257cc65",
   "metadata": {},
   "outputs": [
    {
     "name": "stdout",
     "output_type": "stream",
     "text": [
      "Patient ID's which are not there in prescriptions but in demographics are: 789308\n"
     ]
    }
   ],
   "source": [
    "prescriptions=pd.read_excel(\"Cardiac_Outcomes.xlsx\",\"Patient_Precriptions\") [\"inpatient_number\"].drop_duplicates()\n",
    "#prescriptions.drop_duplicates(\"inpatient_number\",inplace=True)\n",
    "demo =pd.read_excel(\"Cardiac_Outcomes.xlsx\",\"Demography\")[\"inpatient_number\"]\n",
    "z = set(demo).difference(set(prescriptions))\n",
    "for i in z:\n",
    "   \t print(\"Patient ID's which are not there in prescriptions but in demographics are:\", i)"
   ]
  },
  {
   "cell_type": "markdown",
   "id": "0975686f-e046-4217-b4a3-afb4de4fbbef",
   "metadata": {},
   "source": [
    "#Q72 What % of the dataset is male vs female?"
   ]
  },
  {
   "cell_type": "code",
   "execution_count": 7,
   "id": "00016f76-fe88-4d09-ad64-484eaebabfeb",
   "metadata": {},
   "outputs": [
    {
     "name": "stdout",
     "output_type": "stream",
     "text": [
      "Percentage of Female=  57.9 %\n",
      "Percentage of Male=  42.1 %\n"
     ]
    }
   ],
   "source": [
    "#import pandas as pd\n",
    "demo =pd.read_excel(\"Cardiac_Outcomes.xlsx\",\"Demography\")\n",
    "Female = int(demo[demo.gender == 'Female'].shape[0])\n",
    "Male = int( demo[demo.gender == 'Male'].shape[0])\n",
    "Total = Female + Male\n",
    "PercentFemale = (Female/Total)*100\n",
    "PercentMale =(Male/Total)*100\n",
    "print('Percentage of Female= ', round(PercentFemale, 1),'%')\n",
    "print('Percentage of Male= ', round(PercentMale,1), '%')\n"
   ]
  },
  {
   "cell_type": "markdown",
   "id": "804fb56f-b9f7-4130-8d34-f0ed8d271c2b",
   "metadata": {},
   "source": [
    "Q#70: On average, what is the most frequent weekday of admission?"
   ]
  },
  {
   "cell_type": "code",
   "execution_count": 8,
   "id": "7cf2753e-19ae-4ce8-8bb6-c3d3460cec0c",
   "metadata": {},
   "outputs": [
    {
     "name": "stdout",
     "output_type": "stream",
     "text": [
      "Most admissions happened on Monday\n"
     ]
    }
   ],
   "source": [
    "discharge = pd.read_excel(\"Cardiac_Outcomes.xlsx\",\"Hospitalization_Discharge\")\n",
    "admitDate = pd.DataFrame(discharge['Admission_date'])\n",
    "admitDate['Admission_date'] = pd.to_datetime(admitDate['Admission_date']) \n",
    "admitDate['dayOfWeek'] = admitDate['Admission_date'].dt.day_name() \n",
    "grouping = admitDate.groupby([\"dayOfWeek\"])[\"dayOfWeek\"].count()\n",
    "mostFrequentDay = grouping.sort_values(axis = 0, ascending = False).head(1) \n",
    "print(\"Most admissions happened on\",mostFrequentDay.idxmax())"
   ]
  },
  {
   "cell_type": "markdown",
   "id": "1453d6ce-8f61-4f65-a494-f799c2cc1b14",
   "metadata": {},
   "source": [
    "Q 71: Which year had the maximum admissions?"
   ]
  },
  {
   "cell_type": "code",
   "execution_count": 9,
   "id": "e50d1b10-df9b-4462-871a-b20794873320",
   "metadata": {},
   "outputs": [
    {
     "name": "stdout",
     "output_type": "stream",
     "text": [
      "Maximum admissions happened in the year 2016\n"
     ]
    }
   ],
   "source": [
    "discharge = pd.read_excel(\"Cardiac_Outcomes.xlsx\",\"Hospitalization_Discharge\") \n",
    "admitDate = pd.DataFrame(discharge['Admission_date']) \n",
    "admitDate['Admission_date'] = pd.to_datetime(admitDate['Admission_date']) \n",
    "admitDate['year'] = pd.DatetimeIndex(admitDate['Admission_date']).year\n",
    "grouping = admitDate.groupby(['year'])['year'].value_counts()\n",
    "print(\"Maximum admissions happened in the year\",grouping.idxmax())"
   ]
  },
  {
   "cell_type": "markdown",
   "id": "9a40beec-74a1-4731-8c4d-9270c9f6052b",
   "metadata": {},
   "source": [
    "#Q73: Which patient in the youngest age category weighs the most?"
   ]
  },
  {
   "cell_type": "code",
   "execution_count": 10,
   "id": "8c9dc832-f9c7-40f1-b6b7-dc76ceaab414",
   "metadata": {},
   "outputs": [
    {
     "name": "stdout",
     "output_type": "stream",
     "text": [
      "Patient number: 831184 is the patient that weigh most in youngest age category.\n"
     ]
    }
   ],
   "source": [
    "#demo is my dataframe\n",
    "demo =pd.read_excel(\"Cardiac_Outcomes.xlsx\",\"Demography\")\n",
    "#getting the rows with the minimum age group and storing this subset into result\n",
    "result = demo.loc[(demo['ageCat'] == demo['ageCat'].min() )]\n",
    "#reading the patients with max height in that minimum age group catagory\n",
    "patient = result[result['weight']==result['weight'].max()]['inpatient_number']\n",
    "#printing that heavy patient\n",
    "for i in patient:\n",
    "    print(\"Patient number:\", i, \"is the patient that weigh most in youngest age category.\")\n",
    "\n"
   ]
  },
  {
   "cell_type": "markdown",
   "id": "f45f4189-8e80-499f-aeec-9fbc454b78ce",
   "metadata": {},
   "source": [
    " #Q74 Which adm ward had the lowest rate of Outcome Death? #pending -- to calculate the lowest rate"
   ]
  },
  {
   "cell_type": "code",
   "execution_count": 135,
   "id": "965e229a-7e5d-42df-918f-1a6b53025c2d",
   "metadata": {},
   "outputs": [
    {
     "name": "stdout",
     "output_type": "stream",
     "text": [
      "GeneralWard\n",
      "ICU\n",
      "Others\n"
     ]
    }
   ],
   "source": [
    "discharge = pd.read_excel(\"Cardiac_Outcomes.xlsx\",\"Hospitalization_Discharge\")\n",
    "#discharge[discharge.outcome_during_hospitalization =='Dead']\n",
    "result = discharge.loc[(discharge['outcome_during_hospitalization']  == 'Dead')]\n",
    "df=result.groupby(['admission_ward'])['outcome_during_hospitalization'].count()\n",
    "for x in df:\n",
    "      rate = round((df/result.shape[0])*100, 1)\n",
    "x=rate.sort_values(axis=0,ascending=True).min()\n",
    "y=dict(rate)\n",
    "for key,value in y.items():\n",
    "   if value== x:\n",
    "        print(key)\n"
   ]
  },
  {
   "cell_type": "markdown",
   "id": "f020b5b6-c460-4642-8026-ccdd3429d21b",
   "metadata": {},
   "source": [
    "#Q:75: What % of those with an outcome of death, had myocardial infarction?"
   ]
  },
  {
   "cell_type": "code",
   "execution_count": 88,
   "id": "bdba7ff5-34b7-4c83-aa30-2c181e31406c",
   "metadata": {},
   "outputs": [
    {
     "name": "stdout",
     "output_type": "stream",
     "text": [
      "The percentage of the patients with outcome of death and had myocardial infraction is 9.1\n"
     ]
    }
   ],
   "source": [
    "discharge = pd.read_excel(\"Cardiac_Outcomes.xlsx\",\"Hospitalization_Discharge\")\n",
    "complications = pd.read_excel(\"Cardiac_Outcomes.xlsx\",\"CardiacComplications\")\n",
    "df1 = discharge.loc[(discharge[\"outcome_during_hospitalization\"]== 'Dead')]\n",
    "df3 = complications.loc[(complications[\"myocardial_infarction\"]==1)]\n",
    "result = pd.concat([df1, df3], axis=1, join='inner')\n",
    "rate =round((len(result)/df1.shape[0])*100, 1)\n",
    "print(\"The percentage of the patients with outcome of death and had myocardial infraction is\", rate)\n"
   ]
  },
  {
   "cell_type": "markdown",
   "id": "16a731fe-ad1a-4888-b4e4-bfe3acc42937",
   "metadata": {},
   "source": [
    "#Q76: What is the ratio of those with congestive heart failure to those who had type of heart failure Both?\n"
   ]
  },
  {
   "cell_type": "code",
   "execution_count": 90,
   "id": "c10d5a37-96cf-46e0-b623-aeaf8a962d58",
   "metadata": {},
   "outputs": [
    {
     "name": "stdout",
     "output_type": "stream",
     "text": [
      "The ratio of those with congestive heart failure to those who had type of heart failure Both is  13 : 10\n"
     ]
    }
   ],
   "source": [
    "complications = pd.read_excel(\"Cardiac_Outcomes.xlsx\",\"CardiacComplications\")\n",
    "pats_with_congestiveHF = complications.loc[(complications[\"congestive_heart_failure\"] == 1)]\n",
    "pats_with_congestiveHF.shape[0]\n",
    "pats_with_hfBoth = complications.loc[(complications[\"type_of_heart_failure\"] == 'Both')]\n",
    "pats_with_hfBoth.shape[0]\n",
    "num1 = (round(pats_with_congestiveHF.shape[0]/pats_with_hfBoth.shape[0], 1))*10\n",
    "num2 = (pats_with_hfBoth.shape[0]/pats_with_hfBoth.shape[0])*10\n",
    "print(\"The ratio of those with congestive heart failure to those who had type of heart failure Both is \", int(ratio1), \":\", int(ratio2))\n",
    "\n"
   ]
  },
  {
   "cell_type": "markdown",
   "id": "ccbb50bf-9136-4da6-9c2b-11a658d1485e",
   "metadata": {},
   "source": [
    "#77: LIst the number of cardiogenic shock patients based on hospitalization outcome, having a severe GCS score(higher risk of death) "
   ]
  },
  {
   "cell_type": "code",
   "execution_count": 136,
   "id": "50861ccd-abf5-4739-9aab-94b04e67d02c",
   "metadata": {},
   "outputs": [
    {
     "data": {
      "text/plain": [
       "outcome_during_hospitalization\n",
       "Dead                     5\n",
       "DischargeAgainstOrder    7\n",
       "Name: outcome_during_hospitalization, dtype: int64"
      ]
     },
     "execution_count": 136,
     "metadata": {},
     "output_type": "execute_result"
    }
   ],
   "source": [
    "discharge = pd.read_excel(\"Cardiac_Outcomes.xlsx\",\"Hospitalization_Discharge\")\n",
    "complications = pd.read_excel(\"Cardiac_Outcomes.xlsx\",\"CardiacComplications\")\n",
    "responsivenes = pd.read_excel(\"Cardiac_Outcomes.xlsx\",\"Responsivenes\")\n",
    "cardiogenic_shock_pat = complications.loc[(complications[\"Killip_grade\"] == 4)]\n",
    "Severe_GCS_pat = responsivenes.loc[(responsivenes[\"GCS\"] >= 3 ) & (responsivenes[\"GCS\"] <= 8 )]\n",
    "Severe_GCS_pat.count()\n",
    "df1=cardiogenic_shock_pat[[\"inpatient_number\",\"Killip_grade\"]]\n",
    "df2=discharge[[\"inpatient_number\",\"outcome_during_hospitalization\"]]\n",
    "df3=Severe_GCS_pat[[\"inpatient_number\",\"GCS\"]]\n",
    "result_set= pd.concat([df1, df2,df3], axis=1, join='inner')\n",
    "result_set\n",
    "grouping = result_set.groupby([\"outcome_during_hospitalization\"])[\"outcome_during_hospitalization\"].count()\n",
    "grouping"
   ]
  },
  {
   "cell_type": "markdown",
   "id": "8c3b3ae1-8bf0-4715-8033-4e5c83d28fa4",
   "metadata": {},
   "source": [
    "#Q78: Give the count of patients who have experinced tachicardia or bradycardia."
   ]
  },
  {
   "cell_type": "code",
   "execution_count": 375,
   "id": "532689a3-6de5-40aa-8e50-5a739c639043",
   "metadata": {},
   "outputs": [
    {
     "name": "stdout",
     "output_type": "stream",
     "text": [
      "Number of techycardia patients:  417\n",
      "Number of bradycardia patients:  154\n"
     ]
    }
   ],
   "source": [
    "labs = pd.read_excel(\"Cardiac_Outcomes.xlsx\",\"Labs\")\n",
    "Techycardia_pat = labs.loc[(labs[\"pulse\"] > 100)].shape[0]\n",
    "Bradycardia_pat = labs.loc[(labs[\"pulse\"]<60)].shape[0]\n",
    "print(\"Number of techycardia patients: \", Techycardia_pat)\n",
    "print(\"Number of bradycardia patients: \", Bradycardia_pat)"
   ]
  },
  {
   "cell_type": "markdown",
   "id": "34466b6e-3979-4ad6-898a-8aa73060ffaf",
   "metadata": {},
   "source": [
    "#Q79: Create a Funnel chart of BMI Category(Normal Weight, Underweight and Obese)"
   ]
  },
  {
   "cell_type": "code",
   "execution_count": 140,
   "id": "8930ee29-b7c3-42e2-9734-ff9d23a4e68f",
   "metadata": {},
   "outputs": [
    {
     "data": {
      "image/png": "[encoded data removed]",
      "text/plain": [
       "<Figure size 1200x1000 with 1 Axes>"
      ]
     },
     "metadata": {},
     "output_type": "display_data"
    }
   ],
   "source": [
    "\n",
    "import matplotlib.pyplot as plt\n",
    "\n",
    "demo =pandas.read_excel(\"Cardiac_Outcomes.xlsx\",\"Demography\")[[\"inpatient_number\", \"BMI\"]]\n",
    "\n",
    "Under = demo.loc[(demo[\"BMI\"]<18.5) & (demo[\"BMI\"]>0)].shape[0]\n",
    "Obese = demo.loc[(demo[\"BMI\"]>=30)].shape[0]\n",
    "Normal = demo.loc[(demo[\"BMI\"]>=18.5) & (demo[\"BMI\"]<30) ].shape[0]\n",
    "labels = [\"Obese\",\"Under\", \"Normal\" ]\n",
    "vals = [Obese,Under, Normal]\n",
    "colors = [\"#a9d18e\", \"#ffc000\", \"#ed7d31\"]\n",
    "df = pd.DataFrame({\"Labels\": labels, \"Values\": vals})\n",
    "fig = plt.figure(figsize = (12,10))\n",
    "plt.fill_betweenx(y=[1,3.8], x1 = [10,12], x2 = [8,6], color = colors[0]);\n",
    "plt.fill_betweenx(y=[4,6.8], x1 = [12,14], x2 = [6,4], color = colors[1]);\n",
    "plt.fill_betweenx(y=[7,9.8], x1 = [14,16], x2 = [4,2], color = colors[2]);\n",
    "plt.xticks([],[]);\n",
    "plt.yticks([2,5,8], df[\"Labels\"]);\n",
    "for y, value in zip([2,5,8],vals):\n",
    "    plt.text(9,y, value, fontsize = 16, fontweight = \"bold\", color = \"white\", ha = \"center\");\n",
    "plt.ylabel(\"Weight Category\");\n",
    "plt.title(\"Patient BMI Distribution\", loc = \"center\", fontsize = 20, fontweight = \"bold\");\n",
    "\n"
   ]
  },
  {
   "cell_type": "markdown",
   "id": "49226c5c-0d6d-4b05-9ff9-9ceefa2ad09c",
   "metadata": {},
   "source": [
    "#Q80:Delete the column age from Q26 iteratively. \n",
    "#Q26: Create a column that randomly generates an age between the age group given for each patient. What was the average age of the patients?"
   ]
  },
  {
   "cell_type": "code",
   "execution_count": 141,
   "id": "40068512-267c-48b9-aefa-67b14d0d6edd",
   "metadata": {},
   "outputs": [
    {
     "name": "stdout",
     "output_type": "stream",
     "text": [
      "      inpatient_number  gender  weight  height        BMI     occupation  \\\n",
      "0               857781    Male    50.0    1.64  18.590125  UrbanResident   \n",
      "1               743087  Female    51.0    1.63  19.195303  UrbanResident   \n",
      "2               866418    Male    70.0    1.70  24.221453         farmer   \n",
      "3               775928    Male    65.0    1.70  22.491349  UrbanResident   \n",
      "4               810128  Female    76.0    1.55  31.633715  UrbanResident   \n",
      "...                ...     ...     ...     ...        ...            ...   \n",
      "2003            740689  Female    35.0    1.50  15.555556         Others   \n",
      "2004            734280  Female    50.0    1.55  20.811655  UrbanResident   \n",
      "2005            781004    Male    75.0    1.70  25.951557  UrbanResident   \n",
      "2006            744870    Male    40.0    1.50  17.777778  UrbanResident   \n",
      "2007            791864  Female    45.0    1.55  18.730489  UrbanResident   \n",
      "\n",
      "     ageCat age  \n",
      "0     69-79      \n",
      "1     69-79      \n",
      "2     59-69      \n",
      "3     69-79      \n",
      "4     69-79      \n",
      "...     ...  ..  \n",
      "2003  79-89      \n",
      "2004  79-89      \n",
      "2005  39-49      \n",
      "2006  49-59      \n",
      "2007  79-89      \n",
      "\n",
      "[2008 rows x 8 columns]\n"
     ]
    }
   ],
   "source": [
    "import random\n",
    "demo = pandas.read_excel(\"Cardiac_Outcomes.xlsx\",\"Demography\")\n",
    "def generate_random_age(age_range): \n",
    "  lower, upper = map(int, age_range.split('-'))\n",
    "  return random.randint(lower, upper)\n",
    "    \n",
    "demo[\"age\"] = demo[\"ageCat\"].apply(generate_random_age)\n",
    "#demo=list(demo[\"age\"])\n",
    "\n",
    "for i in demo['ageCat']:\n",
    " demo['age']=''\n",
    "\n",
    "print(demo)\n",
    "\n",
    "\n"
   ]
  },
  {
   "cell_type": "markdown",
   "id": "050180eb-a313-4273-8974-3f3de55e9df1",
   "metadata": {},
   "source": [
    "#Q9: Create any 2 2-D arrays and perform matrix multiplication. Display the resulting array."
   ]
  },
  {
   "cell_type": "code",
   "execution_count": 142,
   "id": "405bed58-05ec-4c2a-9092-04b10803873e",
   "metadata": {},
   "outputs": [
    {
     "name": "stdout",
     "output_type": "stream",
     "text": [
      "[[15 43]\n",
      " [ 5 17]]\n"
     ]
    }
   ],
   "source": [
    "mat1 = ([3, 4],[2 ,1])\n",
    "mat2 = ([1, 5],[3, 7]) \n",
    "res = np.dot(mat1,mat2)\n",
    " \n",
    "print(res)"
   ]
  },
  {
   "cell_type": "markdown",
   "id": "2a063ec5-2ffa-4e6b-9cbe-2278d32aadca",
   "metadata": {},
   "source": [
    "#Q11:A valid mobile number is a ten digit number starting with a 7,8 or 9. For every string listed, print \"YES\" if it is a valid mobile number and \"NO\" if it is not on separate lines. Do not print the quotes.\n",
    "{2,9587456281,1252478965,7397260044}"
   ]
  },
  {
   "cell_type": "code",
   "execution_count": 49,
   "id": "9571cc1a-3154-4e40-b979-1dc90c42bb90",
   "metadata": {},
   "outputs": [
    {
     "name": "stdout",
     "output_type": "stream",
     "text": [
      "9587456281 😀 YES\n",
      "2 🙁 NO\n",
      "7397260044 😀 YES\n",
      "1252478965 🙁 NO\n"
     ]
    }
   ],
   "source": [
    "given= {2,9587456281,1252478965,7397260044}\n",
    "\n",
    "for item in given:\n",
    "  item = str(item)\n",
    "  if( len(item) == 10 and (item[0] == '7' or item[0] == '8' or item[0] == '9')):\n",
    "    print(item,  \"\\U0001f600\",\"YES\")\n",
    "  else:\n",
    "    print(item, \"\\U0001F641\",\"NO\")\n",
    "\n",
    "\n"
   ]
  },
  {
   "cell_type": "markdown",
   "id": "1362160f-07e6-4a4c-97ae-f0fdd9058445",
   "metadata": {},
   "source": [
    "#Q12:If left ventricular end diastolic diameter has a normal range: 3.5 - 5.6 cm, how many patients fall outside that limit and what is the MAP of most patients with this condition?"
   ]
  },
  {
   "cell_type": "code",
   "execution_count": 22,
   "id": "cc9e8da7-75f9-4bda-8133-232b5da97167",
   "metadata": {
    "scrolled": true
   },
   "outputs": [
    {
     "data": {
      "text/plain": [
       "96.6666666666667"
      ]
     },
     "execution_count": 22,
     "metadata": {},
     "output_type": "execute_result"
    }
   ],
   "source": [
    "import pandas as pd\n",
    "complications = pd.read_excel(\"Cardiac_Outcomes.xlsx\",\"CardiacComplications\")\n",
    "complicationsPatients= complications.loc[(complications[\"left_ventricular_end_diastolic_diameter_LV\"]>56) | (complications[\"left_ventricular_end_diastolic_diameter_LV\"]<35)]\n",
    "labs = pd.read_excel(\"Cardiac_Outcomes.xlsx\",\"Labs\")[[\"inpatient_number\",\"map\"]]\n",
    "complicationsPatients['left_ventricular_end_diastolic_diameter_LV'].count()\n",
    "merge = pd.merge(complicationsPatients, labs, on = ['inpatient_number'])\n",
    "group = merge.groupby(['map'])['map'].count().sort_values(ascending = False)\n",
    "group.idxmax()\n"
   ]
  },
  {
   "cell_type": "markdown",
   "id": "29e06679-4044-4fd9-b556-98f16e663b76",
   "metadata": {},
   "source": [
    "#Q6: What was the average age group of the patients that had an outcome of 'Alive'?"
   ]
  },
  {
   "cell_type": "code",
   "execution_count": 143,
   "id": "34870c1c-f094-4771-8d38-cceb4c62f4b7",
   "metadata": {},
   "outputs": [
    {
     "name": "stdout",
     "output_type": "stream",
     "text": [
      "The average age group of the patients that had an outcome of 'Alive  69-79\n"
     ]
    }
   ],
   "source": [
    "discharge = pd.read_excel(\"Cardiac_Outcomes.xlsx\",\"Hospitalization_Discharge\")[['inpatient_number','outcome_during_hospitalization']]\n",
    "demo =pd.read_excel(\"Cardiac_Outcomes.xlsx\",\"Demography\")[['inpatient_number','ageCat']]\n",
    "pat_alive = discharge[discharge['outcome_during_hospitalization'] == 'Alive']\n",
    "merge = pd.merge(pat_alive,demo, on = ['inpatient_number'])\n",
    "grouping = merge.groupby(['ageCat'])['ageCat'].count()\n",
    "print(\"The average age group of the patients that had an outcome of 'Alive \", grouping.idxmax())\n"
   ]
  },
  {
   "cell_type": "markdown",
   "id": "a672b162-4417-4eda-8980-e0c42a1716be",
   "metadata": {},
   "source": [
    "#Q10:Display the percentage of missing values in each column in the table labs. Show the distribution as a bar graph"
   ]
  },
  {
   "cell_type": "code",
   "execution_count": 32,
   "id": "08c16377-ff57-468a-8e1f-049448dcd124",
   "metadata": {},
   "outputs": [
    {
     "data": {
      "image/png": "[encoded data removed]",
      "text/plain": [
       "<Figure size 1000x500 with 1 Axes>"
      ]
     },
     "metadata": {},
     "output_type": "display_data"
    }
   ],
   "source": [
    "import pandas as pd\n",
    "import matplotlib as plt\n",
    "import matplotlib.pyplot as plt\n",
    "\n",
    "labs = pd.read_excel(\"Cardiac_Outcomes.xlsx\",\"Labs\")\n",
    "missingValPercentage = round((labs.isnull().sum()/labs.shape[0])*100, 1)\n",
    "datadic =(dict(missingValPercentage))\n",
    "Labs = list(datadic.keys())\n",
    "values = list(datadic.values())\n",
    "fig = plt.figure(figsize = (10,5))\n",
    "plt.bar(Labs, values, color ='orange', width = 0.5)\n",
    "plt.xlabel(\"Labs\")\n",
    "plt.ylabel(\"Percentage of Missing Lab Values\")\n",
    "plt.title(\"Distribution Of Patients With The Missing Lab Values\")\n",
    "plt.show()\n"
   ]
  },
  {
   "cell_type": "code",
   "execution_count": null,
   "id": "81a54dae-d569-4ba6-a966-5812c1f23d2c",
   "metadata": {},
   "outputs": [],
   "source": []
  }
 ],
 "metadata": {
  "kernelspec": {
   "display_name": "Python 3 (ipykernel)",
   "language": "python",
   "name": "python3"
  },
  "language_info": {
   "codemirror_mode": {
    "name": "ipython",
    "version": 3
   },
   "file_extension": ".py",
   "mimetype": "text/x-python",
   "name": "python",
   "nbconvert_exporter": "python",
   "pygments_lexer": "ipython3",
   "version": "3.11.7"
  }
 },
 "nbformat": 4,
 "nbformat_minor": 5
}
