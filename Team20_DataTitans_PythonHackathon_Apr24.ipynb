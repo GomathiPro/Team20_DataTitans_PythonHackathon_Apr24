{
 "cells": [
  {
   "cell_type": "code",
   "execution_count": 2,
   "id": "d4dceb8c-9336-46a5-a8e8-5f678f0a68dc",
   "metadata": {},
   "outputs": [
    {
     "data": {
      "text/plain": [
       "admission_ward\n",
       "Cardiology    1547\n",
       "Name: count, dtype: int64"
      ]
     },
     "execution_count": 2,
     "metadata": {},
     "output_type": "execute_result"
    }
   ],
   "source": [
    "#Q65: Which Admission Ward has maximum number of visits scheduled?\n",
    "import pandas\n",
    "#reading the data into a variable named discharge\n",
    "discharge = pandas.read_excel(\"Cardiac_Outcomes.xlsx\",\"Hospitalization_Discharge\")\n",
    "#counting the freequency or number of occurrences of each unique admission ward\n",
    "countfreequencydischageUnique=discharge[\"admission_ward\"].value_counts()\n",
    "#sorting that list in descending and getting the first row for max occurrences\n",
    "countfreequencydischageUnique.sort_values(axis = 0, ascending = False).head(1)\n",
    "\n",
    "\n",
    "\n"
   ]
  },
  {
   "cell_type": "code",
   "execution_count": 2,
   "id": "46077f95-c67a-404f-bec1-5afbc879fe88",
   "metadata": {},
   "outputs": [
    {
     "data": {
      "text/plain": [
       "discharge_department  gender\n",
       "Cardiology            Female    993\n",
       "                      Male      710\n",
       "GeneralWard           Female    137\n",
       "                      Male      104\n",
       "ICU                   Female      5\n",
       "                      Male        7\n",
       "Others                Female     28\n",
       "                      Male       24\n",
       "Name: gender, dtype: int64"
      ]
     },
     "execution_count": 2,
     "metadata": {},
     "output_type": "execute_result"
    }
   ],
   "source": [
    "#Q66: Display total count of patients in each discharge_department based on gender\n",
    "import pandas\n",
    "discharge = pandas.read_excel(\"Cardiac_Outcomes.xlsx\",\"Hospitalization_Discharge\")\n",
    "demo =pandas.read_excel(\"Cardiac_Outcomes.xlsx\",\"Demography\")\n",
    "row1=discharge['inpatient_number']\n",
    "row2 = discharge['discharge_department']\n",
    "row3 = demo['gender']\n",
    "dataforQ66 = [row1, row2, row3]\n",
    "join = pandas.concat(dataforQ66, axis = 1)\n",
    "grouping = join.groupby([\"discharge_department\",\"gender\"])[\"gender\"].count()\n",
    "grouping\n"
   ]
  },
  {
   "cell_type": "code",
   "execution_count": 3,
   "id": "121ab922-e7d7-4560-bf82-f62be528073a",
   "metadata": {},
   "outputs": [
    {
     "data": {
      "text/plain": [
       "Drug_name\n",
       "Spironolactone tablet                               1833\n",
       "Furosemide injection                                1720\n",
       "Furosemide tablet                                   1641\n",
       "Meglumine Adenosine Cyclophosphate for injection    1115\n",
       "Deslanoside injection                               1017\n",
       "Digoxin tablet                                       999\n",
       "Aspirin enteric-coated tablet                        958\n",
       "Atorvastatin calcium tablet                          822\n",
       "Milrinone injection                                  709\n",
       "sulfotanshinone sodium injection                     570\n",
       "Metoprolol Succinate Sustained-release tablet        523\n",
       "Benazepril hydrochloride tablet                      434\n",
       "Clopidogrel Hydrogen Sulphate tablet                 401\n",
       "Valsartan Dispersible tablet                         348\n",
       "Shenfu injection                                     338\n",
       "Isosorbide Mononitrate Sustained Release tablet      326\n",
       "metoprolol tartrate injection                        307\n",
       "Hydrochlorothiazide tablet                           283\n",
       "warfarin sodium tablet                               253\n",
       "Torasemide tablet                                    252\n",
       "Nitroglycerin injection                              203\n",
       "Heparin Sodium injection                             153\n",
       "Enoxaparin Sodium injection                          113\n",
       "Isoprenaline Hydrochloride injection                  30\n",
       "Dobutamine hydrochloride injection                    22\n",
       "Name: count, dtype: int64"
      ]
     },
     "execution_count": 3,
     "metadata": {},
     "output_type": "execute_result"
    }
   ],
   "source": [
    "import pandas\n",
    "prescriptions=pandas.read_excel(\"Cardiac_Outcomes.xlsx\",\"Patient_Precriptions\")\n",
    "prescriptionsUnique=prescriptions[\"Drug_name\"].unique()\n",
    "countfreequencyprescriptionsUnique=prescriptions[\"Drug_name\"].value_counts()\n",
    "countfreequencyprescriptionsUnique"
   ]
  },
  {
   "cell_type": "markdown",
   "id": "37aed8a9-8211-4e52-91dd-e51589d87618",
   "metadata": {},
   "source": [
    "#Find 5 patients with the highest Discharge days greater than 20. List their most common outcome"
   ]
  },
  {
   "cell_type": "code",
   "execution_count": 1,
   "id": "50bb2ecd-ec8f-42d0-a0ed-886c00c130be",
   "metadata": {},
   "outputs": [
    {
     "data": {
      "text/html": [
       "<div>\n",
       "<style scoped>\n",
       "    .dataframe tbody tr th:only-of-type {\n",
       "        vertical-align: middle;\n",
       "    }\n",
       "\n",
       "    .dataframe tbody tr th {\n",
       "        vertical-align: top;\n",
       "    }\n",
       "\n",
       "    .dataframe thead th {\n",
       "        text-align: right;\n",
       "    }\n",
       "</style>\n",
       "<table border=\"1\" class=\"dataframe\">\n",
       "  <thead>\n",
       "    <tr style=\"text-align: right;\">\n",
       "      <th></th>\n",
       "      <th>inpatient_number</th>\n",
       "      <th>dischargeDay</th>\n",
       "      <th>outcome_during_hospitalization</th>\n",
       "    </tr>\n",
       "  </thead>\n",
       "  <tbody>\n",
       "    <tr>\n",
       "      <th>884</th>\n",
       "      <td>794077</td>\n",
       "      <td>123</td>\n",
       "      <td>Alive</td>\n",
       "    </tr>\n",
       "    <tr>\n",
       "      <th>1613</th>\n",
       "      <td>768711</td>\n",
       "      <td>118</td>\n",
       "      <td>Alive</td>\n",
       "    </tr>\n",
       "    <tr>\n",
       "      <th>1548</th>\n",
       "      <td>791880</td>\n",
       "      <td>88</td>\n",
       "      <td>Alive</td>\n",
       "    </tr>\n",
       "    <tr>\n",
       "      <th>1573</th>\n",
       "      <td>794784</td>\n",
       "      <td>82</td>\n",
       "      <td>Alive</td>\n",
       "    </tr>\n",
       "    <tr>\n",
       "      <th>1513</th>\n",
       "      <td>757711</td>\n",
       "      <td>76</td>\n",
       "      <td>Alive</td>\n",
       "    </tr>\n",
       "  </tbody>\n",
       "</table>\n",
       "</div>"
      ],
      "text/plain": [
       "      inpatient_number  dischargeDay outcome_during_hospitalization\n",
       "884             794077           123                          Alive\n",
       "1613            768711           118                          Alive\n",
       "1548            791880            88                          Alive\n",
       "1573            794784            82                          Alive\n",
       "1513            757711            76                          Alive"
      ]
     },
     "execution_count": 1,
     "metadata": {},
     "output_type": "execute_result"
    }
   ],
   "source": [
    "import pandas\n",
    "discharge = pandas.read_excel(\"Cardiac_Outcomes.xlsx\",\"Hospitalization_Discharge\")\n",
    "result = discharge.loc[(discharge['dischargeDay'] > 20)]\n",
    "result[[\"inpatient_number\", \"dischargeDay\", \"outcome_during_hospitalization\"]].sort_values(by=\"dischargeDay\",ascending=False ).head()\n",
    " "
   ]
  },
  {
   "cell_type": "markdown",
   "id": "0975686f-e046-4217-b4a3-afb4de4fbbef",
   "metadata": {},
   "source": [
    "#Q72 What % of the dataset is male vs female?"
   ]
  },
  {
   "cell_type": "code",
   "execution_count": 2,
   "id": "00016f76-fe88-4d09-ad64-484eaebabfeb",
   "metadata": {},
   "outputs": [
    {
     "name": "stdout",
     "output_type": "stream",
     "text": [
      "Percentage of Female=  57.9 %\n",
      "Percentage of Male=  42.1 %\n"
     ]
    }
   ],
   "source": [
    "import pandas\n",
    "demo =pandas.read_excel(\"Cardiac_Outcomes.xlsx\",\"Demography\")\n",
    "Female = int(demo[demo.gender == 'Female'].shape[0])\n",
    "Male = int( demo[demo.gender == 'Male'].shape[0])\n",
    "Total = Female + Male\n",
    "PercentFemale = (Female/Total)*100\n",
    "PercentMale =(Male/Total)*100\n",
    "print('Percentage of Female= ', round(PercentFemale, 1),'%')\n",
    "print('Percentage of Male= ', round(PercentMale,1), '%')\n"
   ]
  },
  {
   "cell_type": "code",
   "execution_count": null,
   "id": "9e116eed-4577-4ebe-9e2a-1e2f01b0ca75",
   "metadata": {},
   "outputs": [],
   "source": []
  }
 ],
 "metadata": {
  "kernelspec": {
   "display_name": "Python 3 (ipykernel)",
   "language": "python",
   "name": "python3"
  },
  "language_info": {
   "codemirror_mode": {
    "name": "ipython",
    "version": 3
   },
   "file_extension": ".py",
   "mimetype": "text/x-python",
   "name": "python",
   "nbconvert_exporter": "python",
   "pygments_lexer": "ipython3",
   "version": "3.11.7"
  }
 },
 "nbformat": 4,
 "nbformat_minor": 5
}
