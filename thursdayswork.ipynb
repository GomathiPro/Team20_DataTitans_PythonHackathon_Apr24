{
 "cells": [
  {
   "cell_type": "markdown",
   "id": "53b2767c-a5e6-420f-a8c0-feaa11cd96ac",
   "metadata": {},
   "source": [
    "#Find 5 patients with the highest Discharge days greater than 20. List their most common outcome"
   ]
  },
  {
   "cell_type": "code",
   "execution_count": 5,
   "id": "53c9ba80-81f0-49db-822d-005359c8d3c4",
   "metadata": {},
   "outputs": [
    {
     "data": {
      "text/html": [
       "<div>\n",
       "<style scoped>\n",
       "    .dataframe tbody tr th:only-of-type {\n",
       "        vertical-align: middle;\n",
       "    }\n",
       "\n",
       "    .dataframe tbody tr th {\n",
       "        vertical-align: top;\n",
       "    }\n",
       "\n",
       "    .dataframe thead th {\n",
       "        text-align: right;\n",
       "    }\n",
       "</style>\n",
       "<table border=\"1\" class=\"dataframe\">\n",
       "  <thead>\n",
       "    <tr style=\"text-align: right;\">\n",
       "      <th></th>\n",
       "      <th>inpatient_number</th>\n",
       "      <th>dischargeDay</th>\n",
       "      <th>outcome_during_hospitalization</th>\n",
       "    </tr>\n",
       "  </thead>\n",
       "  <tbody>\n",
       "    <tr>\n",
       "      <th>884</th>\n",
       "      <td>794077</td>\n",
       "      <td>123</td>\n",
       "      <td>Alive</td>\n",
       "    </tr>\n",
       "    <tr>\n",
       "      <th>1613</th>\n",
       "      <td>768711</td>\n",
       "      <td>118</td>\n",
       "      <td>Alive</td>\n",
       "    </tr>\n",
       "    <tr>\n",
       "      <th>1548</th>\n",
       "      <td>791880</td>\n",
       "      <td>88</td>\n",
       "      <td>Alive</td>\n",
       "    </tr>\n",
       "    <tr>\n",
       "      <th>1573</th>\n",
       "      <td>794784</td>\n",
       "      <td>82</td>\n",
       "      <td>Alive</td>\n",
       "    </tr>\n",
       "    <tr>\n",
       "      <th>1513</th>\n",
       "      <td>757711</td>\n",
       "      <td>76</td>\n",
       "      <td>Alive</td>\n",
       "    </tr>\n",
       "  </tbody>\n",
       "</table>\n",
       "</div>"
      ],
      "text/plain": [
       "      inpatient_number  dischargeDay outcome_during_hospitalization\n",
       "884             794077           123                          Alive\n",
       "1613            768711           118                          Alive\n",
       "1548            791880            88                          Alive\n",
       "1573            794784            82                          Alive\n",
       "1513            757711            76                          Alive"
      ]
     },
     "execution_count": 5,
     "metadata": {},
     "output_type": "execute_result"
    }
   ],
   "source": [
    "\n",
    "import pandas\n",
    "discharge = pandas.read_excel(\"Cardiac_Outcomes.xlsx\",\"Hospitalization_Discharge\")\n",
    "result = discharge.loc[(discharge['dischargeDay'] > 20)]\n",
    "result[[\"inpatient_number\", \"dischargeDay\", \"outcome_during_hospitalization\"]].sort_values(by=\"dischargeDay\",ascending=False ).head()\n",
    " "
   ]
  },
  {
   "cell_type": "markdown",
   "id": "7ab62328-c2c2-4986-bf47-670ab2a352d6",
   "metadata": {},
   "source": [
    "#Q72 What % of the dataset is male vs female?"
   ]
  },
  {
   "cell_type": "code",
   "execution_count": null,
   "id": "7a9de736-f65f-404d-8b15-aa0f2fe89341",
   "metadata": {},
   "outputs": [],
   "source": [
    "#Q72 What % of the dataset is male vs female?\n",
    "import pandas\n",
    "demo =pandas.read_excel(\"Cardiac_Outcomes.xlsx\",\"Demography\")\n",
    "Female = int(demo[demo.gender == 'Female'].shape[0])\n",
    "Male = int( demo[demo.gender == 'Male'].shape[0])\n",
    "Total = Female + Male\n",
    "PercentFemale = (Female/Total)*100\n",
    "PercentMale =(Male/Total)*100\n",
    "print('Percentage of Female= ', round(PercentFemale, 1),'%')\n",
    "print('Percentage of Male= ', round(PercentMale,1), '%')\n",
    "\n",
    "\n"
   ]
  },
  {
   "cell_type": "code",
   "execution_count": null,
   "id": "6527eb87-e7b1-41c8-8450-7b2c3eb34abc",
   "metadata": {},
   "outputs": [],
   "source": []
  }
 ],
 "metadata": {
  "kernelspec": {
   "display_name": "Python 3 (ipykernel)",
   "language": "python",
   "name": "python3"
  },
  "language_info": {
   "codemirror_mode": {
    "name": "ipython",
    "version": 3
   },
   "file_extension": ".py",
   "mimetype": "text/x-python",
   "name": "python",
   "nbconvert_exporter": "python",
   "pygments_lexer": "ipython3",
   "version": "3.11.7"
  }
 },
 "nbformat": 4,
 "nbformat_minor": 5
}
