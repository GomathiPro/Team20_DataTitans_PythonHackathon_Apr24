{
 "cells": [
  {
   "cell_type": "code",
   "execution_count": 7,
   "id": "94f69615",
   "metadata": {},
   "outputs": [
    {
     "name": "stdout",
     "output_type": "stream",
     "text": [
      "Requirement already satisfied: pandas in c:\\users\\lohit\\anaconda3\\lib\\site-packages (2.1.4)\n",
      "Requirement already satisfied: numpy<2,>=1.23.2 in c:\\users\\lohit\\anaconda3\\lib\\site-packages (from pandas) (1.26.4)\n",
      "Requirement already satisfied: python-dateutil>=2.8.2 in c:\\users\\lohit\\anaconda3\\lib\\site-packages (from pandas) (2.8.2)\n",
      "Requirement already satisfied: pytz>=2020.1 in c:\\users\\lohit\\anaconda3\\lib\\site-packages (from pandas) (2023.3.post1)\n",
      "Requirement already satisfied: tzdata>=2022.1 in c:\\users\\lohit\\anaconda3\\lib\\site-packages (from pandas) (2023.3)\n",
      "Requirement already satisfied: six>=1.5 in c:\\users\\lohit\\anaconda3\\lib\\site-packages (from python-dateutil>=2.8.2->pandas) (1.16.0)\n",
      "Note: you may need to restart the kernel to use updated packages.\n"
     ]
    }
   ],
   "source": [
    "pip install pandas"
   ]
  },
  {
   "cell_type": "code",
   "execution_count": 18,
   "id": "39237593",
   "metadata": {},
   "outputs": [],
   "source": [
    "import pandas as pd"
   ]
  },
  {
   "cell_type": "code",
   "execution_count": 19,
   "id": "4c8b6801",
   "metadata": {},
   "outputs": [],
   "source": [
    "df= pd.read_excel(\"G:\\\\My Drive\\\\JayanthiG\\\\Numpy_Ninja\\\\\\Python\\Python_Hackathon_Apr24\\Cardiac_Outcomes.xlsx\", sheet_name = \"Demography\")"
   ]
  },
  {
   "cell_type": "code",
   "execution_count": 30,
   "id": "7e3f4cf5",
   "metadata": {},
   "outputs": [
    {
     "name": "stdout",
     "output_type": "stream",
     "text": [
      "occupation\n",
      "UrbanResident    1670\n",
      "farmer            198\n",
      "Others             89\n",
      "NaN                27\n",
      "worker             17\n",
      "Officer             7\n",
      "Name: count, dtype: int64\n"
     ]
    }
   ],
   "source": [
    "# Occupation :UrbanResident,farmer,Others,worker,Officer,NA\n",
    "# Question:1 -How many patients were registered in each unique occupation?\n",
    "\n",
    "occupation_count = df[\"occupation\"].value_counts(dropna=False)\n",
    "print(occupation_count)"
   ]
  },
  {
   "cell_type": "code",
   "execution_count": null,
   "id": "469011ef",
   "metadata": {},
   "outputs": [],
   "source": []
  },
  {
   "cell_type": "code",
   "execution_count": null,
   "id": "9cf0c218",
   "metadata": {},
   "outputs": [],
   "source": []
  }
 ],
 "metadata": {
  "kernelspec": {
   "display_name": "Python 3 (ipykernel)",
   "language": "python",
   "name": "python3"
  },
  "language_info": {
   "codemirror_mode": {
    "name": "ipython",
    "version": 3
   },
   "file_extension": ".py",
   "mimetype": "text/x-python",
   "name": "python",
   "nbconvert_exporter": "python",
   "pygments_lexer": "ipython3",
   "version": "3.11.7"
  }
 },
 "nbformat": 4,
 "nbformat_minor": 5
}
