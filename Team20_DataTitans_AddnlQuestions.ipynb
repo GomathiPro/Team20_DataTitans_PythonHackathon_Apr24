{
 "cells": [
  {
   "cell_type": "code",
   "execution_count": 8,
   "id": "a9b595c3-ed8c-49f2-8242-1732749a0466",
   "metadata": {},
   "outputs": [],
   "source": [
    "import numpy as np\n",
    "import pandas as pd\n",
    "import matplotlib.pyplot as plt\n",
    "%matplotlib inline\n",
    "import seaborn as sns\n",
    "import missingno as msno\n",
    "import re\n",
    "from qbstyles import mpl_style\n",
    "from matplotlib import dates as mdates\n",
    "from datetime import datetime\n",
    "from sklearn.preprocessing import LabelEncoder\n",
    "from numpy.random import RandomState\n",
    "import random"
   ]
  },
  {
   "cell_type": "code",
   "execution_count": 2,
   "id": "88f1cc9d-479f-4e31-aa69-26a92f2f82fb",
   "metadata": {},
   "outputs": [],
   "source": [
    "discharge = pd.read_excel('Cardiac_Outcomes.xlsx','Hospitalization_Discharge')\n",
    "complications = pd.read_excel('Cardiac_Outcomes.xlsx',\"CardiacComplications\")\n",
    "responsivenes = pd.read_excel('Cardiac_Outcomes.xlsx',\"Responsivenes\")\n",
    "labs = pd.read_excel('Cardiac_Outcomes.xlsx','Labs')\n",
    "history = pd.read_excel('Cardiac_Outcomes.xlsx',\"PatientHistory\")\n",
    "demo =pd.read_excel('Cardiac_Outcomes.xlsx',\"Demography\")\n",
    "prescriptions=pd.read_excel('Cardiac_Outcomes.xlsx',\"Patient_Precriptions\")"
   ]
  },
  {
   "cell_type": "markdown",
   "id": "42982f5b-1ace-4dca-83a5-f863c1ebb07d",
   "metadata": {},
   "source": [
    "#Q1: On average, what is the least frequent weekday of admission?"
   ]
  },
  {
   "cell_type": "code",
   "execution_count": 4,
   "id": "cb034846-0fc3-4cc3-9ec6-6a24473c57f1",
   "metadata": {},
   "outputs": [
    {
     "name": "stdout",
     "output_type": "stream",
     "text": [
      "Least admissions happened on Tuesday\n"
     ]
    }
   ],
   "source": [
    "#import pd\n",
    "#discharge = pd.read_excel(\"Cardiac_Outcomes.xlsx\",\"Hospitalization_Discharge\")\n",
    "admitDate = pd.DataFrame(discharge['Admission_date'])\n",
    "admitDate['Admission_date'] = pd.to_datetime(admitDate['Admission_date']) \n",
    "admitDate['dayOfWeek'] = admitDate['Admission_date'].dt.day_name() \n",
    "grouping = admitDate.groupby([\"dayOfWeek\"])[\"dayOfWeek\"].count()\n",
    "leastFrequentDay = grouping.sort_values(axis = 0, ascending = True).head(1) \n",
    "print(\"Least admissions happened on\",leastFrequentDay.idxmax())"
   ]
  },
  {
   "cell_type": "code",
   "execution_count": null,
   "id": "e62d812a-a663-4ed1-8590-9051ff3f89a3",
   "metadata": {},
   "outputs": [],
   "source": [
    "# Q2: what % of the admissions happened on weekends? this can help staffing schedules, resource management etc"
   ]
  },
  {
   "cell_type": "code",
   "execution_count": 94,
   "id": "673b8fa3-8d64-461a-bb46-d3204c535de0",
   "metadata": {},
   "outputs": [
    {
     "name": "stdout",
     "output_type": "stream",
     "text": [
      "percent of patients admitted during weekends:  28.6 %\n"
     ]
    }
   ],
   "source": [
    "#import pd\n",
    "#discharge = pd.read_excel(\"Cardiac_Outcomes.xlsx\",\"Hospitalization_Discharge\")\n",
    "admitDate = pd.DataFrame(discharge['Admission_date'])\n",
    "admitDate['Admission_date'] = pd.to_datetime(admitDate['Admission_date']) \n",
    "admitDate['dayOfWeek'] = admitDate['Admission_date'].dt.day_name() \n",
    "grouping = admitDate.groupby([\"dayOfWeek\"])[\"dayOfWeek\"].count()\n",
    "v1 = 0\n",
    "for i, v in grouping.items():\n",
    "   # print('index: ', i, 'value: ', v)\n",
    "    if ((i == 'Sunday') or (i == 'Saturday')):\n",
    "        v1 = v + v1\n",
    "percent =(v1/grouping.sum())*100\n",
    "print(\"percent of patients admitted during weekends: \", round(percent, 1), \"%\")\n"
   ]
  },
  {
   "cell_type": "code",
   "execution_count": 85,
   "id": "269dfc8b-3cef-4c95-9bb1-1a87405f4595",
   "metadata": {},
   "outputs": [],
   "source": [
    "#Q3: Which year had the minimum admissions?"
   ]
  },
  {
   "cell_type": "code",
   "execution_count": 52,
   "id": "70e5b66b-8f2d-4295-8f03-9ac829893e4f",
   "metadata": {},
   "outputs": [
    {
     "name": "stdout",
     "output_type": "stream",
     "text": [
      "Minimum admissions happened in the year 2017\n"
     ]
    }
   ],
   "source": [
    "#import pd\n",
    "#discharge = pd.read_excel(\"Cardiac_Outcomes.xlsx\",\"Hospitalization_Discharge\") \n",
    "admitDate = pd.DataFrame(discharge['Admission_date']) \n",
    "admitDate['Admission_date'] = pd.to_datetime(admitDate['Admission_date']) \n",
    "admitDate['year'] = pd.DatetimeIndex(admitDate['Admission_date']).year\n",
    "grouping = admitDate.groupby(['year'])['year'].value_counts()\n",
    "print(\"Minimum admissions happened in the year\",grouping.idxmin())"
   ]
  },
  {
   "cell_type": "code",
   "execution_count": null,
   "id": "8eb86417-979b-4192-9f85-e6fecf220a89",
   "metadata": {},
   "outputs": [],
   "source": [
    "#Q4: Count of patient's discharge destination by admission ward"
   ]
  },
  {
   "cell_type": "code",
   "execution_count": 100,
   "id": "ff76ee32-5ad9-4b3b-a3ba-ff27b41af39b",
   "metadata": {},
   "outputs": [
    {
     "data": {
      "text/plain": [
       "admission_ward  DestinationDischarge\n",
       "Cardiology      Home                    1101\n",
       "                HealthcareFacility       296\n",
       "                Unknown                  139\n",
       "Others          Home                     119\n",
       "GeneralWard     Home                     116\n",
       "                HealthcareFacility       103\n",
       "                Unknown                   44\n",
       "Others          HealthcareFacility        38\n",
       "                Unknown                   24\n",
       "Cardiology      Died                      11\n",
       "ICU             Home                       8\n",
       "                Unknown                    5\n",
       "GeneralWard     Died                       2\n",
       "ICU             Died                       1\n",
       "                HealthcareFacility         1\n",
       "Name: count, dtype: int64"
      ]
     },
     "execution_count": 100,
     "metadata": {},
     "output_type": "execute_result"
    }
   ],
   "source": [
    "\n",
    "#discharge = pd.read_excel(\"Cardiac_Outcomes.xlsx\",\"Hospitalization_Discharge\")\n",
    "countfreequencydischageUnique=discharge[[\"admission_ward\", \"DestinationDischarge\"]].value_counts()\n",
    "countfreequencydischageUnique\n"
   ]
  },
  {
   "cell_type": "code",
   "execution_count": 97,
   "id": "6b750cda-7853-4604-b4c3-5c6bdbbf9e28",
   "metadata": {},
   "outputs": [],
   "source": [
    "#Q5; Find the number of patients admitted in cardiology has discharged from icu and who are those?"
   ]
  },
  {
   "cell_type": "code",
   "execution_count": 117,
   "id": "dbe9cf4d-95fb-4204-9d17-7cf686170dc8",
   "metadata": {
    "scrolled": true
   },
   "outputs": [
    {
     "name": "stdout",
     "output_type": "stream",
     "text": [
      "The number of patients admitted in cardiology who got discharged from icu is  6\n",
      "They are:\n",
      "43      798240\n",
      "89      773090\n",
      "393     760663\n",
      "749     824103\n",
      "797     732466\n",
      "1425    870258\n",
      "Name: inpatient_number, dtype: int64\n"
     ]
    }
   ],
   "source": [
    "df = discharge.loc[(discharge[\"admission_ward\"]=='Cardiology') & (discharge[\"discharge_department\"]=='ICU')]\n",
    "x = df.shape[0]\n",
    "print(\"The number of patients admitted in cardiology who got discharged from icu is \", x)\n",
    "print(\"They are:\")\n",
    "df[\"inpatient_number\"].reset_index()\n",
    "\n",
    "\n"
   ]
  },
  {
   "cell_type": "markdown",
   "id": "818ffbc9-370b-4edd-ad87-369966644c12",
   "metadata": {},
   "source": [
    "#Q6: Number of patients with  severe comorbid conditions based on CCI Scores \n",
    "another way of asking the same question: Number of patients with high risk of mortality?\n",
    "The total score of the CCI consists in a simple sum of the weights, \n",
    "with higher scores indicating not only a greater mortality risk but also more severe comorbid conditions"
   ]
  },
  {
   "cell_type": "code",
   "execution_count": 118,
   "id": "5dc2e1e8-943c-4a57-828a-49ec2592eaab",
   "metadata": {},
   "outputs": [
    {
     "data": {
      "text/plain": [
       "16"
      ]
     },
     "execution_count": 118,
     "metadata": {},
     "output_type": "execute_result"
    }
   ],
   "source": [
    "history.loc[(history[\"CCI_score\"]>=5)].shape[0]"
   ]
  },
  {
   "cell_type": "code",
   "execution_count": null,
   "id": "b0ba643a-3afe-4bc2-bfab-7328a1f2156a",
   "metadata": {},
   "outputs": [],
   "source": [
    "#Q7.Which patients are at high risk of mortality (based on NYHA score) got discharged from Cardiology and were descesed?\n",
    "NYHA_cardiac_function_classification"
   ]
  },
  {
   "cell_type": "code",
   "execution_count": 140,
   "id": "090e99bc-78a6-4751-9645-5cf5875d3101",
   "metadata": {},
   "outputs": [
    {
     "data": {
      "text/plain": [
       "{750447, 765343, 805475, 828678, 854580, 869467}"
      ]
     },
     "execution_count": 140,
     "metadata": {},
     "output_type": "execute_result"
    }
   ],
   "source": [
    "df_one = complications.loc[(complications[\"NYHA_cardiac_function_classification\"]==4)]['inpatient_number']\n",
    "df_two = discharge.loc[(discharge[\"discharge_department\"]=='Cardiology') & (discharge[\"outcome_during_hospitalization\"]=='Dead')]['inpatient_number']\n",
    "set(df_one).intersection(set(df_two))\n"
   ]
  },
  {
   "cell_type": "code",
   "execution_count": null,
   "id": "a1df1021-4dab-439c-80a4-456aa22dcaf5",
   "metadata": {},
   "outputs": [],
   "source": [
    " #Q8: Based on their age find out the type of heart failure "
   ]
  },
  {
   "cell_type": "code",
   "execution_count": 149,
   "id": "18060300-88e0-4e34-9341-73c5aeb71f7b",
   "metadata": {},
   "outputs": [
    {
     "data": {
      "text/plain": [
       "ageCat  type_of_heart_failure\n",
       "69-79   Both                     532\n",
       "79-89   Both                     486\n",
       "59-69   Both                     269\n",
       "69-79   Left                     163\n",
       "79-89   Left                     146\n",
       "59-69   Left                      90\n",
       "49-59   Both                      79\n",
       "89-110  Both                      67\n",
       "39-49   Both                      38\n",
       "89-110  Left                      33\n",
       "49-59   Left                      22\n",
       "69-79   Right                     20\n",
       "39-49   Left                      17\n",
       "79-89   Right                     14\n",
       "59-69   Right                      9\n",
       "29-39   Both                       6\n",
       "        Left                       5\n",
       "49-59   Right                      5\n",
       "21-29   Both                       3\n",
       "        Left                       1\n",
       "39-49   Right                      1\n",
       "29-39   Right                      1\n",
       "89-110  Right                      1\n",
       "Name: type_of_heart_failure, dtype: int64"
      ]
     },
     "execution_count": 149,
     "metadata": {},
     "output_type": "execute_result"
    }
   ],
   "source": [
    "df_three = pd.DataFrame({\n",
    "    'inpatient_number':complications['inpatient_number'],\n",
    "    'type_of_heart_failure':complications['type_of_heart_failure'],\n",
    "    'ageCat':demo['ageCat']\n",
    "})\n",
    "#results = df_three([\"ageCat\",\"type_of_heart_failure\"]).value_counts()\n",
    "#results\n",
    "grouping = df_three.groupby([\"ageCat\",\"type_of_heart_failure\"])[\"type_of_heart_failure\"].count()\n",
    "grouping.sort_values(ascending=False)"
   ]
  },
  {
   "cell_type": "code",
   "execution_count": null,
   "id": "5d0e1010-ed3f-4682-89cc-23ff5d0d12ac",
   "metadata": {},
   "outputs": [],
   "source": []
  }
 ],
 "metadata": {
  "kernelspec": {
   "display_name": "Python 3 (ipykernel)",
   "language": "python",
   "name": "python3"
  },
  "language_info": {
   "codemirror_mode": {
    "name": "ipython",
    "version": 3
   },
   "file_extension": ".py",
   "mimetype": "text/x-python",
   "name": "python",
   "nbconvert_exporter": "python",
   "pygments_lexer": "ipython3",
   "version": "3.11.7"
  }
 },
 "nbformat": 4,
 "nbformat_minor": 5
}
