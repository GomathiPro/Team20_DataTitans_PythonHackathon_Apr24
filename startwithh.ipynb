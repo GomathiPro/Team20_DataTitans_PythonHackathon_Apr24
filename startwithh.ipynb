{
 "cells": [
  {
   "cell_type": "markdown",
   "id": "433c41ed-f196-4b40-b1c8-2b1b6c1918c5",
   "metadata": {},
   "source": [
    "Question 63 find the patients who have 'h' in their DestinationDischarge and print them"
   ]
  },
  {
   "cell_type": "code",
   "execution_count": 20,
   "id": "4220465a-645d-45b8-86c3-47fad3b7c9fa",
   "metadata": {},
   "outputs": [
    {
     "name": "stdout",
     "output_type": "stream",
     "text": [
      "     DestinationDischarge\n",
      "7      HealthcareFacility\n",
      "18     HealthcareFacility\n",
      "22     HealthcareFacility\n",
      "29     HealthcareFacility\n",
      "31     HealthcareFacility\n",
      "...                   ...\n",
      "2001   HealthcareFacility\n",
      "2002   HealthcareFacility\n",
      "2003   HealthcareFacility\n",
      "2004   HealthcareFacility\n",
      "2005   HealthcareFacility\n",
      "\n",
      "[438 rows x 1 columns]\n"
     ]
    }
   ],
   "source": [
    "import pandas as pd\n",
    "import plotly.express as px\n",
    "\n",
    "# Define a filtering function\n",
    "def contains_h(value):\n",
    "    return 'h' in str(value)\n",
    "    \n",
    "df = pd.read_excel('/Users/jayakumar/Documents/Gomathi_da_notes/Phython/hackathon/Cardiac_Outcomes.xlsx', 'Hospitalization_Discharge')\n",
    "\n",
    "# Apply the filtering function to the 'Name' column\n",
    "filtered_df = df[df['DestinationDischarge'].apply(contains_h)]\n",
    "\n",
    "filtered_df.to_excel('/Users/jayakumar/Documents/Jayakumar/gitlab/test.xlsx', index=False)\n",
    "\n",
    "# Display the filtered DataFrame\n",
    "\n",
    "columns_to_show = ['DestinationDischarge']\n",
    "print(filtered_df[columns_to_show])"
   ]
  },
  {
   "cell_type": "code",
   "execution_count": null,
   "id": "d008f18a-5a91-4ef4-b1e0-46b044d81085",
   "metadata": {},
   "outputs": [],
   "source": []
  }
 ],
 "metadata": {
  "kernelspec": {
   "display_name": "Python 3 (ipykernel)",
   "language": "python",
   "name": "python3"
  },
  "language_info": {
   "codemirror_mode": {
    "name": "ipython",
    "version": 3
   },
   "file_extension": ".py",
   "mimetype": "text/x-python",
   "name": "python",
   "nbconvert_exporter": "python",
   "pygments_lexer": "ipython3",
   "version": "3.11.7"
  }
 },
 "nbformat": 4,
 "nbformat_minor": 5
}
