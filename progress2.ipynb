{
 "cells": [
  {
   "cell_type": "markdown",
   "id": "3b3ef92c-0a2f-4e87-98ee-1b7289410d79",
   "metadata": {},
   "source": [
    "23 How many patients were prescribed Digoxin?"
   ]
  },
  {
   "cell_type": "code",
   "execution_count": 1,
   "id": "692fceb4-8df9-4e2f-a896-ef6510cd2853",
   "metadata": {},
   "outputs": [
    {
     "data": {
      "text/html": [
       "<div>\n",
       "<style scoped>\n",
       "    .dataframe tbody tr th:only-of-type {\n",
       "        vertical-align: middle;\n",
       "    }\n",
       "\n",
       "    .dataframe tbody tr th {\n",
       "        vertical-align: top;\n",
       "    }\n",
       "\n",
       "    .dataframe thead th {\n",
       "        text-align: right;\n",
       "    }\n",
       "</style>\n",
       "<table border=\"1\" class=\"dataframe\">\n",
       "  <thead>\n",
       "    <tr style=\"text-align: right;\">\n",
       "      <th></th>\n",
       "      <th>inpatient_number</th>\n",
       "      <th>Drug_name</th>\n",
       "    </tr>\n",
       "  </thead>\n",
       "  <tbody>\n",
       "    <tr>\n",
       "      <th>12</th>\n",
       "      <td>857781</td>\n",
       "      <td>Digoxin tablet</td>\n",
       "    </tr>\n",
       "    <tr>\n",
       "      <th>35</th>\n",
       "      <td>810128</td>\n",
       "      <td>Digoxin tablet</td>\n",
       "    </tr>\n",
       "    <tr>\n",
       "      <th>36</th>\n",
       "      <td>823318</td>\n",
       "      <td>Digoxin tablet</td>\n",
       "    </tr>\n",
       "    <tr>\n",
       "      <th>53</th>\n",
       "      <td>844094</td>\n",
       "      <td>Digoxin tablet</td>\n",
       "    </tr>\n",
       "    <tr>\n",
       "      <th>64</th>\n",
       "      <td>787530</td>\n",
       "      <td>Digoxin tablet</td>\n",
       "    </tr>\n",
       "    <tr>\n",
       "      <th>...</th>\n",
       "      <td>...</td>\n",
       "      <td>...</td>\n",
       "    </tr>\n",
       "    <tr>\n",
       "      <th>15333</th>\n",
       "      <td>740689</td>\n",
       "      <td>Digoxin tablet</td>\n",
       "    </tr>\n",
       "    <tr>\n",
       "      <th>15338</th>\n",
       "      <td>734280</td>\n",
       "      <td>Digoxin tablet</td>\n",
       "    </tr>\n",
       "    <tr>\n",
       "      <th>15347</th>\n",
       "      <td>781004</td>\n",
       "      <td>Digoxin tablet</td>\n",
       "    </tr>\n",
       "    <tr>\n",
       "      <th>15358</th>\n",
       "      <td>791864</td>\n",
       "      <td>Digoxin tablet</td>\n",
       "    </tr>\n",
       "    <tr>\n",
       "      <th>15362</th>\n",
       "      <td>123456</td>\n",
       "      <td>Digoxin tablet</td>\n",
       "    </tr>\n",
       "  </tbody>\n",
       "</table>\n",
       "<p>999 rows × 2 columns</p>\n",
       "</div>"
      ],
      "text/plain": [
       "       inpatient_number       Drug_name\n",
       "12               857781  Digoxin tablet\n",
       "35               810128  Digoxin tablet\n",
       "36               823318  Digoxin tablet\n",
       "53               844094  Digoxin tablet\n",
       "64               787530  Digoxin tablet\n",
       "...                 ...             ...\n",
       "15333            740689  Digoxin tablet\n",
       "15338            734280  Digoxin tablet\n",
       "15347            781004  Digoxin tablet\n",
       "15358            791864  Digoxin tablet\n",
       "15362            123456  Digoxin tablet\n",
       "\n",
       "[999 rows x 2 columns]"
      ]
     },
     "execution_count": 1,
     "metadata": {},
     "output_type": "execute_result"
    }
   ],
   "source": [
    "import pandas as pd\n",
    "\n",
    "df = pd.read_excel(r\"C:\\Users\\anith\\Downloads\\Cardiac_Outcomes.xlsx\" ,sheet_name ='Patient_Precriptions')\n",
    "\n",
    "newdata = (df['Drug_name']=='Digoxin tablet')\n",
    "df.loc[newdata]"
   ]
  },
  {
   "cell_type": "markdown",
   "id": "2f7d299f-88fc-4b39-9636-f5fa2b375f95",
   "metadata": {},
   "source": [
    "18\tCreate a heatmap on any columns of your choice including at least 1 lab value\n"
   ]
  },
  {
   "cell_type": "code",
   "execution_count": 3,
   "id": "f5a6119d-2725-407d-8efa-8728ae135ece",
   "metadata": {},
   "outputs": [
    {
     "data": {
      "text/plain": [
       "<Axes: >"
      ]
     },
     "execution_count": 3,
     "metadata": {},
     "output_type": "execute_result"
    },
    {
     "data": {
      "image/png": "[encoded data removed]",
      "text/plain": [
       "<Figure size 640x480 with 3 Axes>"
      ]
     },
     "metadata": {},
     "output_type": "display_data"
    }
   ],
   "source": [
    "import seaborn as sb\n",
    "import matplotlib.pyplot as plt\n",
    "path= r\"C:\\Users\\anith\\Downloads\\Cardiac_Outcomes.xlsx\"\n",
    "import pandas as pd\n",
    "df = pd.read_excel(path,sheet_name = 'Labs',usecols=['inpatient_number','pulse','lactate'])\n",
    "\n",
    "sb.heatmap(df.corr())\n",
    "sb.heatmap(df.corr(),annot=True,linewidths=1)"
   ]
  }
 ],
 "metadata": {
  "kernelspec": {
   "display_name": "Python 3 (ipykernel)",
   "language": "python",
   "name": "python3"
  },
  "language_info": {
   "codemirror_mode": {
    "name": "ipython",
    "version": 3
   },
   "file_extension": ".py",
   "mimetype": "text/x-python",
   "name": "python",
   "nbconvert_exporter": "python",
   "pygments_lexer": "ipython3",
   "version": "3.11.7"
  }
 },
 "nbformat": 4,
 "nbformat_minor": 5
}
